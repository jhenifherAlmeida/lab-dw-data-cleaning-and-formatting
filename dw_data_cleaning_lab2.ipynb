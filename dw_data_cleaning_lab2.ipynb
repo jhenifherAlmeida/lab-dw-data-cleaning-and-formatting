{
 "cells": [
  {
   "cell_type": "code",
   "execution_count": 30,
   "metadata": {},
   "outputs": [],
   "source": [
    "import pandas as pd\n",
    "url = 'https://raw.githubusercontent.com/data-bootcamp-v4/data/main/file1.csv'\n",
    "df = pd.read_csv(url)"
   ]
  },
  {
   "cell_type": "code",
   "execution_count": 31,
   "metadata": {},
   "outputs": [
    {
     "data": {
      "text/plain": [
       "(4008, 11)"
      ]
     },
     "execution_count": 31,
     "metadata": {},
     "output_type": "execute_result"
    }
   ],
   "source": [
    "df.shape"
   ]
  },
  {
   "cell_type": "code",
   "execution_count": 32,
   "metadata": {},
   "outputs": [
    {
     "data": {
      "text/plain": [
       "Index(['Customer', 'ST', 'GENDER', 'Education', 'Customer Lifetime Value',\n",
       "       'Income', 'Monthly Premium Auto', 'Number of Open Complaints',\n",
       "       'Policy Type', 'Vehicle Class', 'Total Claim Amount'],\n",
       "      dtype='object')"
      ]
     },
     "execution_count": 32,
     "metadata": {},
     "output_type": "execute_result"
    }
   ],
   "source": [
    "df.columns"
   ]
  },
  {
   "cell_type": "code",
   "execution_count": 33,
   "metadata": {},
   "outputs": [
    {
     "data": {
      "text/plain": [
       "Index(['customer', 'state', 'gender', 'education', 'customer_lifetime_value',\n",
       "       'income', 'monthly_premium_auto', 'number_of_open_complaints',\n",
       "       'policy_type', 'vehicle_class', 'total_claim_amount'],\n",
       "      dtype='object')"
      ]
     },
     "execution_count": 33,
     "metadata": {},
     "output_type": "execute_result"
    }
   ],
   "source": [
    "df.columns = (\n",
    "    df.columns.str.lower()\n",
    "              .str.replace(' ', '_')\n",
    "              .str.replace(r'^st$', 'state', regex=True)\n",
    "              \n",
    ")\n",
    "\n",
    "df.columns"
   ]
  },
  {
   "cell_type": "code",
   "execution_count": 34,
   "metadata": {},
   "outputs": [
    {
     "data": {
      "text/plain": [
       "<function print(*args, sep=' ', end='\\n', file=None, flush=False)>"
      ]
     },
     "execution_count": 34,
     "metadata": {},
     "output_type": "execute_result"
    }
   ],
   "source": [
    "#cleaning invalid values\n",
    "df['gender'] = df['gender'].str.strip().str.upper().replace({\n",
    "    'FEMALE': 'F',\n",
    "    'FEMAL': 'F',\n",
    "    'F': 'F',\n",
    "    'MALE': 'M',\n",
    "    'M': 'M'\n",
    "})\n",
    "print"
   ]
  },
  {
   "cell_type": "code",
   "execution_count": 35,
   "metadata": {},
   "outputs": [
    {
     "name": "stdout",
     "output_type": "stream",
     "text": [
      "state\n",
      "California    331\n",
      "Oregon        320\n",
      "Arizona       211\n",
      "Washington    111\n",
      "Nevada         98\n",
      "Name: count, dtype: int64\n"
     ]
    }
   ],
   "source": [
    "state_mapping = {\n",
    "    'AZ': 'Arizona',\n",
    "    'Cali': 'California',\n",
    "    'WA': 'Washington'\n",
    "}\n",
    "\n",
    "df['state'] = df['state'].replace(state_mapping)\n",
    "print(df['state'].value_counts())"
   ]
  },
  {
   "cell_type": "code",
   "execution_count": 36,
   "metadata": {},
   "outputs": [],
   "source": [
    "#updating data types to float \n",
    "df['customer_lifetime_value'] = df ['customer_lifetime_value'].str.replace('%', '', regex=False).astype(float)"
   ]
  },
  {
   "cell_type": "code",
   "execution_count": 37,
   "metadata": {},
   "outputs": [],
   "source": [
    "#replace 'bachelors' with 'berchelor'\n",
    "df['education'] = df['education'].replace('Bachelors', 'Bachelor')"
   ]
  },
  {
   "cell_type": "code",
   "execution_count": 38,
   "metadata": {},
   "outputs": [],
   "source": [
    "#replace vihicle classes with 'Luxury'ArithmeticError\n",
    "df['vehicle_class'] = df['vehicle_class'].replace({\n",
    "    'Sport Car': 'Luxury',\n",
    "    'Luxury SUV': 'Luxury',\n",
    "    'Luxury Car': 'Luxury'\n",
    "})"
   ]
  },
  {
   "cell_type": "code",
   "execution_count": 39,
   "metadata": {},
   "outputs": [],
   "source": [
    "#fix customer life time value#\n",
    "df['customer_lifetime_value'] = pd.to_numeric(df['customer_lifetime_value'], errors='coerce')\n"
   ]
  },
  {
   "cell_type": "code",
   "execution_count": 40,
   "metadata": {},
   "outputs": [
    {
     "name": "stdout",
     "output_type": "stream",
     "text": [
      "['1/0/00' '1/2/00' '1/1/00' '1/3/00' '1/5/00' '1/4/00' nan]\n"
     ]
    }
   ],
   "source": [
    "print(df['number_of_open_complaints'].unique())\n"
   ]
  },
  {
   "cell_type": "code",
   "execution_count": 41,
   "metadata": {},
   "outputs": [],
   "source": [
    "#fix number\n",
    "def extract_middle_number(val):\n",
    "    try:\n",
    "        if isinstance(val, str) and '/' in val:\n",
    "            parts = val.split('/')\n",
    "            if len(parts) >= 2 and parts[1].isdigit():\n",
    "                return int(parts[1])\n",
    "        return int(val)\n",
    "    except:\n",
    "        return pd.NA  # pandas-friendly missing value\n",
    "\n",
    "df['number_of_open_complaints'] = df['number_of_open_complaints'].apply(extract_middle_number).astype('Int64')\n"
   ]
  },
  {
   "cell_type": "code",
   "execution_count": 42,
   "metadata": {},
   "outputs": [
    {
     "data": {
      "text/plain": [
       "customer                      object\n",
       "state                         object\n",
       "gender                        object\n",
       "education                     object\n",
       "customer_lifetime_value      float64\n",
       "income                       float64\n",
       "monthly_premium_auto           Int64\n",
       "number_of_open_complaints      Int64\n",
       "policy_type                   object\n",
       "vehicle_class                 object\n",
       "total_claim_amount           float64\n",
       "dtype: object"
      ]
     },
     "execution_count": 42,
     "metadata": {},
     "output_type": "execute_result"
    }
   ],
   "source": [
    "df['income'] = df['income'].astype(float)\n",
    "df['monthly_premium_auto'] = df['monthly_premium_auto'].astype('Int64')  # allows NaN\n",
    "df['total_claim_amount'] = df['total_claim_amount'].astype(float)\n",
    "\n",
    "# Verify types\n",
    "df.dtypes\n"
   ]
  },
  {
   "cell_type": "code",
   "execution_count": 43,
   "metadata": {},
   "outputs": [
    {
     "data": {
      "text/plain": [
       "customer                      object\n",
       "state                         object\n",
       "gender                        object\n",
       "education                     object\n",
       "customer_lifetime_value      float64\n",
       "income                       float64\n",
       "monthly_premium_auto           Int64\n",
       "number_of_open_complaints      Int64\n",
       "policy_type                   object\n",
       "vehicle_class                 object\n",
       "total_claim_amount           float64\n",
       "dtype: object"
      ]
     },
     "execution_count": 43,
     "metadata": {},
     "output_type": "execute_result"
    }
   ],
   "source": [
    "df.dtypes"
   ]
  },
  {
   "cell_type": "code",
   "execution_count": 44,
   "metadata": {},
   "outputs": [
    {
     "name": "stdout",
     "output_type": "stream",
     "text": [
      "customer                     2937\n",
      "state                        2937\n",
      "gender                       3054\n",
      "education                    2937\n",
      "customer_lifetime_value      2940\n",
      "income                       2937\n",
      "monthly_premium_auto         2937\n",
      "number_of_open_complaints    2937\n",
      "policy_type                  2937\n",
      "vehicle_class                2937\n",
      "total_claim_amount           2937\n",
      "dtype: int64\n"
     ]
    }
   ],
   "source": [
    "#detecting null values\n",
    "null_counts = df.isnull().sum()\n",
    "print(null_counts[null_counts > 0])"
   ]
  },
  {
   "cell_type": "code",
   "execution_count": 45,
   "metadata": {},
   "outputs": [],
   "source": [
    "#fill numeric nulls with median\n",
    "num_cols = df.select_dtypes(include=['float64', 'Int64', 'int']).columns\n",
    "for col in num_cols:\n",
    "    median_val = df[col].median()\n",
    "    df[col] = df[col].fillna(median_val)\n",
    "\n",
    "#fills categorical columns with mode\n",
    "cat_cols = df.select_dtypes(include=['object', 'category']).columns\n",
    "for col in cat_cols:\n",
    "    mode_val = df[col].mode()[0]\n",
    "    df[col] = df[col].fillna(mode_val)"
   ]
  },
  {
   "cell_type": "code",
   "execution_count": 46,
   "metadata": {},
   "outputs": [
    {
     "name": "stdout",
     "output_type": "stream",
     "text": [
      "0\n"
     ]
    }
   ],
   "source": [
    "print(df.isnull().sum().sum())  # Should be 0 if all nulls are handled\n"
   ]
  },
  {
   "cell_type": "code",
   "execution_count": 47,
   "metadata": {},
   "outputs": [
    {
     "name": "stdout",
     "output_type": "stream",
     "text": [
      "Number of duplicates rows: 2936\n"
     ]
    }
   ],
   "source": [
    "#identify duplicates rows\n",
    "duplicates = df.duplicated()\n",
    "print(f\"Number of duplicates rows: {duplicates.sum()}\")"
   ]
  },
  {
   "cell_type": "code",
   "execution_count": 48,
   "metadata": {},
   "outputs": [],
   "source": [
    "#drop duplicate rows, keep the first \n",
    "df = df.drop_duplicates(keep='first')\n",
    "#reset index\n",
    "df = df.reset_index(drop=True)"
   ]
  },
  {
   "cell_type": "code",
   "execution_count": 49,
   "metadata": {},
   "outputs": [
    {
     "name": "stdout",
     "output_type": "stream",
     "text": [
      "Remaining duplicate rows: 0\n"
     ]
    }
   ],
   "source": [
    "print(f\"Remaining duplicate rows: {df.duplicated().sum()}\")"
   ]
  },
  {
   "cell_type": "code",
   "execution_count": 50,
   "metadata": {},
   "outputs": [],
   "source": [
    "#save the cleaned dataset \n",
    "df.to_csv('cleaned_dataset.csv', index=False)"
   ]
  },
  {
   "cell_type": "code",
   "execution_count": 51,
   "metadata": {},
   "outputs": [
    {
     "name": "stdout",
     "output_type": "stream",
     "text": [
      "Total Claim Amount stats:\n",
      "count    1072.000000\n",
      "mean      404.940027\n",
      "std       292.894449\n",
      "min         0.382107\n",
      "25%       202.509051\n",
      "50%       354.729129\n",
      "75%       532.800000\n",
      "max      2893.239678\n",
      "Name: total_claim_amount, dtype: float64\n",
      "\n",
      "Customer Lifetime Value stats:\n",
      "count    1.072000e+03\n",
      "mean     7.929234e+05\n",
      "std      6.423980e+05\n",
      "min      2.004351e+05\n",
      "25%      4.054051e+05\n",
      "50%      5.881742e+05\n",
      "75%      8.937675e+05\n",
      "max      5.816655e+06\n",
      "Name: customer_lifetime_value, dtype: float64\n",
      "\n",
      "Number of target customers: 40\n",
      "\n",
      "Summary statistics for target customers:\n",
      "       total_claim_amount  customer_lifetime_value\n",
      "count           40.000000                40.000000\n",
      "mean           723.776577            341577.910000\n",
      "std            149.280606             56921.472027\n",
      "min            537.600000            228759.690000\n",
      "25%            633.378846            304220.875000\n",
      "50%            685.284189            365995.370000\n",
      "75%            799.200000            387364.700000\n",
      "max           1185.988301            402381.440000\n"
     ]
    }
   ],
   "source": [
    "# Step 1: Review statistics for reference\n",
    "print(\"Total Claim Amount stats:\")\n",
    "print(df['total_claim_amount'].describe())\n",
    "print(\"\\nCustomer Lifetime Value stats:\")\n",
    "print(df['customer_lifetime_value'].describe())\n",
    "\n",
    "# Step 2: Calculate thresholds\n",
    "claim_threshold = df['total_claim_amount'].quantile(0.75)\n",
    "clv_threshold = df['customer_lifetime_value'].quantile(0.25)\n",
    "\n",
    "# Step 3: Filter the DataFrame\n",
    "target_customers = df[\n",
    "    (df['total_claim_amount'] > claim_threshold) &\n",
    "    (df['customer_lifetime_value'] < clv_threshold)\n",
    "]\n",
    "\n",
    "# Step 4: Describe both columns\n",
    "summary_stats = target_customers[['total_claim_amount', 'customer_lifetime_value']].describe()\n",
    "\n",
    "# Step 5: Output\n",
    "print(f\"\\nNumber of target customers: {target_customers.shape[0]}\")\n",
    "print(\"\\nSummary statistics for target customers:\")\n",
    "print(summary_stats)\n"
   ]
  }
 ],
 "metadata": {
  "kernelspec": {
   "display_name": "base",
   "language": "python",
   "name": "python3"
  },
  "language_info": {
   "codemirror_mode": {
    "name": "ipython",
    "version": 3
   },
   "file_extension": ".py",
   "mimetype": "text/x-python",
   "name": "python",
   "nbconvert_exporter": "python",
   "pygments_lexer": "ipython3",
   "version": "3.12.7"
  }
 },
 "nbformat": 4,
 "nbformat_minor": 2
}
